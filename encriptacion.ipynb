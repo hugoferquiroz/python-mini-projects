{
  "nbformat": 4,
  "nbformat_minor": 0,
  "metadata": {
    "colab": {
      "provenance": [],
      "authorship_tag": "ABX9TyPLncg7WD/L7v+FHuc0PLb2",
      "include_colab_link": true
    },
    "kernelspec": {
      "name": "python3",
      "display_name": "Python 3"
    },
    "language_info": {
      "name": "python"
    }
  },
  "cells": [
    {
      "cell_type": "markdown",
      "metadata": {
        "id": "view-in-github",
        "colab_type": "text"
      },
      "source": [
        "<a href=\"https://colab.research.google.com/github/hugoferquiroz/python-mini-projects/blob/main/encriptacion.ipynb\" target=\"_parent\"><img src=\"https://colab.research.google.com/assets/colab-badge.svg\" alt=\"Open In Colab\"/></a>"
      ]
    },
    {
      "cell_type": "markdown",
      "source": [
        "<center> \n",
        "<h1> Cifrado Cesar </h1>\n",
        "</center>\n",
        "\n",
        "El cifrado César es uno de los primeros y más simples sistemas de cifrado conocidos en la historia. Se atribuye su invención al general romano Julio César, quien lo utilizó para enviar mensajes secretos a sus generales durante sus campañas militares.\n",
        "\n",
        "El cifrado César consiste en sustituir cada letra de un mensaje por otra letra que está un número fijo de posiciones más adelante en el alfabeto. Por ejemplo, si se elige un desplazamiento de 3 posiciones, la A se sustituirá por la D, la B por la E, la C por la F, y así sucesivamente. De esta manera, el mensaje original se \"cifra\" y se convierte en un mensaje cifrado que solo puede ser leído por alguien que conozca el desplazamiento utilizado.\n",
        "\n",
        "El cifrado César es un sistema muy simple y fácil de implementar, pero también es muy fácil de descifrar si se conoce el desplazamiento utilizado. Por esta razón, ya no se considera un sistema seguro para proteger información sensibles, y ha sido reemplazado por sistemas de cifrado más sofisticados y seguros. Sin embargo, sigue siendo una herramienta útil para entender los principios básicos del cifrado y para ilustrar cómo se pueden usar los sistemas de cifrado en la práctica.\n",
        "\n",
        "<center>\n",
        "<img src=\"https://historia.nationalgeographic.com.es/medio/2019/12/11/01-julio-cesar-estatua-batalla-zela_4ba7b0be_1280x720.jpg\" width=\"50%\">\n",
        "</center>\n"
      ],
      "metadata": {
        "id": "JAkQF4iRn_KB"
      }
    },
    {
      "cell_type": "code",
      "source": [
        "def cifrar_cesar(texto, clave):\n",
        "    texto_cifrado = \"\"\n",
        "\n",
        "    # Crea una lista del abecedario español\n",
        "    abecedario = \"abcdefghijklmnopqrstuvwxyz\"\n",
        "\n",
        "    # Recorre cada carácter del texto a cifrar\n",
        "    for caracter in texto.lower():\n",
        "        # Si el carácter es una letra del abecedario español\n",
        "        if caracter in abecedario:\n",
        "            # Encuentra la posición del carácter en el abecedario\n",
        "            pos = abecedario.index(caracter)\n",
        "\n",
        "            # Aplica la clave al carácter\n",
        "            pos_cifrada = (pos + clave) % len(abecedario)\n",
        "\n",
        "            # Añade el carácter cifrado al texto cifrado\n",
        "            texto_cifrado += abecedario[pos_cifrada]\n",
        "        else:\n",
        "            # Si el carácter no es una letra del abecedario español, añádelo sin cifrar\n",
        "            texto_cifrado += caracter\n",
        "\n",
        "    # Devuelve el texto cifrado\n",
        "    return texto_cifrado\n"
      ],
      "metadata": {
        "id": "d8HsIT_8ix4M"
      },
      "execution_count": null,
      "outputs": []
    },
    {
      "cell_type": "code",
      "source": [
        "texto = \"Felicidades! Bienvenido al mundo de la criptografia!\"\n",
        "clave = 1212\n",
        "texto_cifrado = cifrar_cesar(texto, clave)\n",
        "\n",
        "print(texto_cifrado) # imprime \"krnu qrzk\"\n"
      ],
      "metadata": {
        "colab": {
          "base_uri": "https://localhost:8080/"
        },
        "id": "Ijap_RyllV3R",
        "outputId": "9ad3bf02-636d-4bff-bbab-54875679ad9b"
      },
      "execution_count": null,
      "outputs": [
        {
          "output_type": "stream",
          "name": "stdout",
          "text": [
            "vubysytqtui! ryudludyte qb ckdte tu bq shyfjewhqvyq!\n"
          ]
        }
      ]
    }
  ]
}